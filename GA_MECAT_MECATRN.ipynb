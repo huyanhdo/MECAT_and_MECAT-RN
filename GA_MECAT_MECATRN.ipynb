{
 "cells": [
  {
   "cell_type": "code",
   "execution_count": 1,
   "id": "8375d262",
   "metadata": {},
   "outputs": [],
   "source": [
    "import matplotlib.pyplot as plt\n",
    "import numpy as np\n",
    "import os\n",
    "import random\n",
    "from random import randrange"
   ]
  },
  {
   "cell_type": "code",
   "execution_count": 2,
   "id": "c7ac4856",
   "metadata": {},
   "outputs": [],
   "source": [
    "path = 'C:/Users/huyan/OneDrive/Desktop/mycode/python/TTTH/git/MECAT-MECATRN/dataset4mecat/mecat'\n",
    "POPULATION_SIZE = 100"
   ]
  },
  {
   "cell_type": "code",
   "execution_count": 3,
   "id": "4db469c9",
   "metadata": {},
   "outputs": [
    {
     "name": "stdout",
     "output_type": "stream",
     "text": [
      "['l100_4_20.test', 'l110_4_20.test', 'l120_4_20.test', 'l130_4_20.test', 'l140_4_20.test', 'l150_4_20.test', 'l160_4_20.test', 'l170_4_20.test', 'l180_4_20.test', 'l190_4_20.test', 'm100_4_20.test', 'm110_4_20.test', 'm120_4_20.test', 'm130_4_20.test', 'm140_4_20.test', 'm150_4_20.test', 'm160_4_20.test', 'm170_4_20.test', 'm180_4_20.test', 'm190_4_20.test']\n"
     ]
    }
   ],
   "source": [
    "mecat_data = os.listdir(path)\n",
    "print(mecat_data)"
   ]
  },
  {
   "cell_type": "code",
   "execution_count": 4,
   "id": "280739fe",
   "metadata": {},
   "outputs": [],
   "source": [
    "def inputToGraph(path):\t\t\n",
    "\tf = open(path,'r')\n",
    "\t\n",
    "\tQ = int(f.readline())\n",
    "\n",
    "\th_and_r = f.readline()[:-1].split(' ')\n",
    "\tH = int(h_and_r[0])\n",
    "\tR = int(h_and_r[1])\n",
    "\tNUM_NODE = int(f.readline())\n",
    "\t\n",
    "\tgraph = [[] for i in range(NUM_NODE)]\n",
    "\treport_size = [0 for i in range(NUM_NODE)]\n",
    "\n",
    "\tfor i in range(NUM_NODE):\n",
    "\t\tline = f.readline()[:-1].split()\n",
    "\t\treport_size[int(line[0])] = int(line[-1])\n",
    "\n",
    "\tnum_edge = int(f.readline())\n",
    "\n",
    "\tfor i in range(num_edge):\n",
    "\t\tline = f.readline().split()\n",
    "\t\tu = int(line[0])\n",
    "\t\tv = int(line[1])\n",
    "\t\tif u not in graph[v]:\n",
    "\t\t\tgraph[u].append(v)\n",
    "\t\t\tgraph[v].append(u)\n",
    "\t\t\n",
    "\tf.close()\n",
    "\tfor v in graph:\n",
    "\t\tv = v.sort\n",
    "\tnum_relay = report_size.count(0)\n",
    "\tif report_size[0] ==0:\n",
    "\t\tnum_relay+=1\n",
    "\treturn graph,report_size,Q,H,R,NUM_NODE,num_edge,num_relay\n"
   ]
  },
  {
   "cell_type": "code",
   "execution_count": 5,
   "id": "7175ff3f",
   "metadata": {},
   "outputs": [],
   "source": [
    "def encoding(tree,root):\n",
    "    num_node = len(tree)\n",
    "    cnt = 0\n",
    "    \n",
    "    node = np.zeros(num_node,dtype = int)\n",
    "    depth = np.zeros(num_node,dtype = int)\n",
    "    check = np.zeros(num_node,dtype = int)\n",
    "    \n",
    "    stack = []\n",
    "    stack.append((root,0))\n",
    "    check[root] = 1\n",
    "    while len(stack)!=0:        \n",
    "        curr_node ,curr_depth = stack.pop()\n",
    "        node[cnt] = curr_node\n",
    "        depth[cnt] = curr_depth\n",
    "        \n",
    "        for v in tree[curr_node][::-1]:\n",
    "            if check[v]==0 : \n",
    "                check[v] = 1\n",
    "                stack.append((v,curr_depth+1))\n",
    "        cnt += 1\n",
    "    \n",
    "    return node,depth "
   ]
  },
  {
   "cell_type": "code",
   "execution_count": 6,
   "id": "8af0ea15",
   "metadata": {},
   "outputs": [],
   "source": [
    "def decoding(node,depth):\n",
    "    num_node = len(node)\n",
    "    graph = [[] for i in range(num_node)]\n",
    "    \n",
    "    stack = []\n",
    "    stack.append(node[0])\n",
    "    \n",
    "    for idx in range(1,num_node):\n",
    "        while (depth[idx]<=len(stack)-1):\n",
    "            stack.pop()\n",
    "        \n",
    "        graph[stack[-1]].append(node[idx])\n",
    "        graph[node[idx]].append(stack[-1])\n",
    "        stack.append(node[idx])\n",
    "    \n",
    "    sorted(graph)\n",
    "    \n",
    "    return graph"
   ]
  },
  {
   "cell_type": "code",
   "execution_count": 7,
   "id": "bae38417",
   "metadata": {},
   "outputs": [],
   "source": [
    "def tournament_selection(size_of_population,k,scarlar_fitness):\n",
    "    selected = np.array(random.sample(range(size_of_population,k)))\n",
    "    res = np.argmax(scarlar_fitness(selected))\n",
    "    return int(selected[res])"
   ]
  },
  {
   "cell_type": "code",
   "execution_count": 8,
   "id": "baa736aa",
   "metadata": {},
   "outputs": [],
   "source": [
    "def get_fitness(individual):\n",
    "    pass"
   ]
  },
  {
   "cell_type": "code",
   "execution_count": 9,
   "id": "a0d13c32",
   "metadata": {},
   "outputs": [],
   "source": []
  },
  {
   "cell_type": "code",
   "execution_count": 12,
   "id": "d24f007c",
   "metadata": {},
   "outputs": [],
   "source": [
    "# calculate energycost\n",
    "def level(tree):\n",
    "    level = {}\n",
    "    for i in range(NUM_NODE):\n",
    "        level[i] = len(tree[i])\n",
    "    return level\n",
    "\n",
    "def energy_cost(num_node,tree,h,r,q,report_size,level):\n",
    "    z = report_size\n",
    "    res = 0\n",
    "    checked = [False for i in range(num_node)]\n",
    "\n",
    "    level.pop(0)\n",
    "\n",
    "    while len(level.keys()) != 0:\n",
    "        key = min(level, key=level.get)\n",
    "        level.pop(key)\n",
    "        checked[key] = True\n",
    "        for neighbor in tree[key]:\n",
    "            if neighbor in level:\n",
    "                level[neighbor] -= 1\n",
    "                if checked[neighbor] == True:\n",
    "                    z[key] +=z[neighbor]\n",
    "            res += math.ceil(z[key]/q)\n",
    "\n",
    "    return res*(h+r)"
   ]
  },
  {
   "cell_type": "code",
   "execution_count": null,
   "id": "dafff90f",
   "metadata": {},
   "outputs": [],
   "source": [
    "# generate random tree\n",
    "def find(u,parent):\n",
    "    if parent[u] == u:\n",
    "        return u\n",
    "    return find(parent[u],parent)\n",
    "\n",
    "def union(x,y,parent,rank):\n",
    "    rootX = find(x,parent)\n",
    "    rootY = find(y,parent)\n",
    "    if rank[rootX] > rank[rootY]:\n",
    "        parent[rootX] = parent[rootY]\n",
    "\n",
    "    elif rank[rootY] > rank[rootX]:\n",
    "        parent[rootY] = parent[rootX]\n",
    "\n",
    "    else:\n",
    "        parent[rootX] = parent[rootY]\n",
    "        rank[rootX] += 1\n",
    "\n",
    "    return parent,rank\n",
    "\n",
    "def genTree(graph):\n",
    "    edgeList = []\n",
    "    num_node = len(graph)\n",
    "    \n",
    "    res = [[] for i in range(num_node)]\n",
    "    \n",
    "    parent = [i for i in range(num_node)]\n",
    "    rank = [0 for i in range(num_node)]\n",
    "\n",
    "    for node,adj_list in enumerate(graph):\n",
    "        for v in adj_list:\n",
    "            if(node<v):\n",
    "                edgeList.append((node,v))\n",
    "    \n",
    "    random.shuffle(edgeList)\n",
    "    \n",
    "      # print(len(edgeList))\n",
    "    cnt = 0 \n",
    "    e = 0\n",
    "    while cnt < num_node - 1:\n",
    "        x,y = edgeList[e]\n",
    "        e+=1\n",
    "        if find(x,parent) != find(y,parent):\n",
    "            res[x].append(y)\n",
    "            res[y].append(x)\n",
    "            parent,rank = union(x,y,parent,rank)\n",
    "            cnt+=1\n",
    "\n",
    "    for i in range(num_node):\n",
    "        res[i] = sorted(res[i])\n",
    "\n",
    "    root = randrange(num_node)\n",
    "\n",
    "    return root,res"
   ]
  },
  {
   "cell_type": "code",
   "execution_count": null,
   "id": "910cd565",
   "metadata": {},
   "outputs": [],
   "source": [
    "# def mutate(node,depth):\n",
    "#     tree = decode(node,depth)\n"
   ]
  },
  {
   "cell_type": "code",
   "execution_count": null,
   "id": "e63cf62b",
   "metadata": {},
   "outputs": [],
   "source": [
    "def GA():\n",
    "    pass"
   ]
  },
  {
   "cell_type": "code",
   "execution_count": null,
   "id": "014b38a2",
   "metadata": {},
   "outputs": [],
   "source": [
    "#main\n",
    "graph,report_size,Q,H,R,NUM_NODE,num_edge,num_relay = inputToGraph(path+'/'+'l100_4_20.test')\n",
    "a = genTree(graph)[1]"
   ]
  },
  {
   "cell_type": "code",
   "execution_count": null,
   "id": "23159ece",
   "metadata": {},
   "outputs": [],
   "source": [
    "# import networkx as nx \n",
    "# x = {}\n",
    "# tets = [[] for i in range(15)]\n",
    "# tets[0] = [1,2]\n",
    "# tets[1] = [0,7]\n",
    "# tets[2] = [0,3,8]\n",
    "# tets[3] = [2,4,10]\n",
    "# tets[4] = [3,5,14]\n",
    "# tets[5] = [4,6]\n",
    "# tets[6] = [5]\n",
    "# tets[7] = [1]\n",
    "# tets[8] = [2,9]\n",
    "# tets[9] = [8]\n",
    "# tets[10] = [3,11]\n",
    "# tets[11] = [10,12]\n",
    "# tets[12] = [11]\n",
    "# tets[13] = [4]\n",
    "# tets[14] = [4]\n",
    "# for idx,i in enumerate(tets):\n",
    "#     x[idx] = tuple(i)\n",
    "# G = nx.Graph(x)\n",
    "# print(nx.is_tree(G))\n",
    "# nx.draw(G,with_labels=True, font_weight='bold')\n",
    "# plt.plot"
   ]
  },
  {
   "cell_type": "code",
   "execution_count": null,
   "id": "d3d85c92",
   "metadata": {},
   "outputs": [],
   "source": []
  }
 ],
 "metadata": {
  "kernelspec": {
   "display_name": "Python 3 (ipykernel)",
   "language": "python",
   "name": "python3"
  },
  "language_info": {
   "codemirror_mode": {
    "name": "ipython",
    "version": 3
   },
   "file_extension": ".py",
   "mimetype": "text/x-python",
   "name": "python",
   "nbconvert_exporter": "python",
   "pygments_lexer": "ipython3",
   "version": "3.9.1"
  }
 },
 "nbformat": 4,
 "nbformat_minor": 5
}
